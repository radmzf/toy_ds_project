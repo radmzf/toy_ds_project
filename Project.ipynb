{
 "cells": [
  {
   "cell_type": "code",
   "execution_count": 1,
   "id": "bf69e106-1f3b-459e-908f-d09b77075a69",
   "metadata": {},
   "outputs": [
    {
     "name": "stderr",
     "output_type": "stream",
     "text": [
      "── \u001b[1mAttaching core tidyverse packages\u001b[22m ──────────────────────── tidyverse 2.0.0 ──\n",
      "\u001b[32m✔\u001b[39m \u001b[34mdplyr    \u001b[39m 1.1.4     \u001b[32m✔\u001b[39m \u001b[34mreadr    \u001b[39m 2.1.5\n",
      "\u001b[32m✔\u001b[39m \u001b[34mforcats  \u001b[39m 1.0.0     \u001b[32m✔\u001b[39m \u001b[34mstringr  \u001b[39m 1.5.1\n",
      "\u001b[32m✔\u001b[39m \u001b[34mggplot2  \u001b[39m 3.5.1     \u001b[32m✔\u001b[39m \u001b[34mtibble   \u001b[39m 3.2.1\n",
      "\u001b[32m✔\u001b[39m \u001b[34mlubridate\u001b[39m 1.9.3     \u001b[32m✔\u001b[39m \u001b[34mtidyr    \u001b[39m 1.3.1\n",
      "\u001b[32m✔\u001b[39m \u001b[34mpurrr    \u001b[39m 1.0.2     \n",
      "── \u001b[1mConflicts\u001b[22m ────────────────────────────────────────── tidyverse_conflicts() ──\n",
      "\u001b[31m✖\u001b[39m \u001b[34mdplyr\u001b[39m::\u001b[32mfilter()\u001b[39m masks \u001b[34mstats\u001b[39m::filter()\n",
      "\u001b[31m✖\u001b[39m \u001b[34mdplyr\u001b[39m::\u001b[32mlag()\u001b[39m    masks \u001b[34mstats\u001b[39m::lag()\n",
      "\u001b[36mℹ\u001b[39m Use the conflicted package (\u001b[3m\u001b[34m<http://conflicted.r-lib.org/>\u001b[39m\u001b[23m) to force all conflicts to become errors\n",
      "── \u001b[1mAttaching packages\u001b[22m ────────────────────────────────────── tidymodels 1.1.1 ──\n",
      "\n",
      "\u001b[32m✔\u001b[39m \u001b[34mbroom       \u001b[39m 1.0.6     \u001b[32m✔\u001b[39m \u001b[34mrsample     \u001b[39m 1.2.1\n",
      "\u001b[32m✔\u001b[39m \u001b[34mdials       \u001b[39m 1.3.0     \u001b[32m✔\u001b[39m \u001b[34mtune        \u001b[39m 1.1.2\n",
      "\u001b[32m✔\u001b[39m \u001b[34minfer       \u001b[39m 1.0.7     \u001b[32m✔\u001b[39m \u001b[34mworkflows   \u001b[39m 1.1.4\n",
      "\u001b[32m✔\u001b[39m \u001b[34mmodeldata   \u001b[39m 1.4.0     \u001b[32m✔\u001b[39m \u001b[34mworkflowsets\u001b[39m 1.0.1\n",
      "\u001b[32m✔\u001b[39m \u001b[34mparsnip     \u001b[39m 1.2.1     \u001b[32m✔\u001b[39m \u001b[34myardstick   \u001b[39m 1.3.1\n",
      "\u001b[32m✔\u001b[39m \u001b[34mrecipes     \u001b[39m 1.1.0     \n",
      "\n",
      "── \u001b[1mConflicts\u001b[22m ───────────────────────────────────────── tidymodels_conflicts() ──\n",
      "\u001b[31m✖\u001b[39m \u001b[34mscales\u001b[39m::\u001b[32mdiscard()\u001b[39m masks \u001b[34mpurrr\u001b[39m::discard()\n",
      "\u001b[31m✖\u001b[39m \u001b[34mdplyr\u001b[39m::\u001b[32mfilter()\u001b[39m   masks \u001b[34mstats\u001b[39m::filter()\n",
      "\u001b[31m✖\u001b[39m \u001b[34mrecipes\u001b[39m::\u001b[32mfixed()\u001b[39m  masks \u001b[34mstringr\u001b[39m::fixed()\n",
      "\u001b[31m✖\u001b[39m \u001b[34mdplyr\u001b[39m::\u001b[32mlag()\u001b[39m      masks \u001b[34mstats\u001b[39m::lag()\n",
      "\u001b[31m✖\u001b[39m \u001b[34myardstick\u001b[39m::\u001b[32mspec()\u001b[39m masks \u001b[34mreadr\u001b[39m::spec()\n",
      "\u001b[31m✖\u001b[39m \u001b[34mrecipes\u001b[39m::\u001b[32mstep()\u001b[39m   masks \u001b[34mstats\u001b[39m::step()\n",
      "\u001b[34m•\u001b[39m Search for functions across packages at \u001b[32mhttps://www.tidymodels.org/find/\u001b[39m\n",
      "\n"
     ]
    }
   ],
   "source": [
    "library(tidyverse)\n",
    "library(tidymodels)\n",
    "set.seed(679)"
   ]
  },
  {
   "cell_type": "markdown",
   "id": "9a57d66e-5032-41d0-9d66-34fff0201092",
   "metadata": {},
   "source": [
    "There will be two clasiification models. One for if they subscribe based on time played, and the other is if they subscribe based on age."
   ]
  },
  {
   "cell_type": "code",
   "execution_count": 16,
   "id": "2ec5ff08-dc33-4893-9a3e-ebd8bef796c6",
   "metadata": {},
   "outputs": [
    {
     "name": "stderr",
     "output_type": "stream",
     "text": [
      "\u001b[1mRows: \u001b[22m\u001b[34m196\u001b[39m \u001b[1mColumns: \u001b[22m\u001b[34m7\u001b[39m\n",
      "\u001b[36m──\u001b[39m \u001b[1mColumn specification\u001b[22m \u001b[36m────────────────────────────────────────────────────────\u001b[39m\n",
      "\u001b[1mDelimiter:\u001b[22m \",\"\n",
      "\u001b[31mchr\u001b[39m (4): experience, hashedEmail, name, gender\n",
      "\u001b[32mdbl\u001b[39m (2): played_hours, Age\n",
      "\u001b[33mlgl\u001b[39m (1): subscribe\n",
      "\n",
      "\u001b[36mℹ\u001b[39m Use `spec()` to retrieve the full column specification for this data.\n",
      "\u001b[36mℹ\u001b[39m Specify the column types or set `show_col_types = FALSE` to quiet this message.\n"
     ]
    },
    {
     "data": {
      "text/html": [
       "<table class=\"dataframe\">\n",
       "<caption>A tibble: 6 × 7</caption>\n",
       "<thead>\n",
       "\t<tr><th scope=col>experience</th><th scope=col>subscribe</th><th scope=col>hashedEmail</th><th scope=col>played_hours</th><th scope=col>name</th><th scope=col>gender</th><th scope=col>Age</th></tr>\n",
       "\t<tr><th scope=col>&lt;chr&gt;</th><th scope=col>&lt;fct&gt;</th><th scope=col>&lt;chr&gt;</th><th scope=col>&lt;dbl&gt;</th><th scope=col>&lt;chr&gt;</th><th scope=col>&lt;chr&gt;</th><th scope=col>&lt;dbl&gt;</th></tr>\n",
       "</thead>\n",
       "<tbody>\n",
       "\t<tr><td>Pro    </td><td>TRUE </td><td>f6daba428a5e19a3d47574858c13550499be23603422e6a0ee9728f8b53e192d</td><td>30.3</td><td>Morgan   </td><td>Male  </td><td> 9</td></tr>\n",
       "\t<tr><td>Veteran</td><td>TRUE </td><td>f3c813577c458ba0dfef80996f8f32c93b6e8af1fa939732842f2312358a88e9</td><td> 3.8</td><td>Christian</td><td>Male  </td><td>17</td></tr>\n",
       "\t<tr><td>Veteran</td><td>FALSE</td><td>b674dd7ee0d24096d1c019615ce4d12b20fcbff12d79d3c5a9d2118eb7ccbb28</td><td> 0.0</td><td>Blake    </td><td>Male  </td><td>17</td></tr>\n",
       "\t<tr><td>Amateur</td><td>TRUE </td><td>23fe711e0e3b77f1da7aa221ab1192afe21648d47d2b4fa7a5a659ff443a0eb5</td><td> 0.7</td><td>Flora    </td><td>Female</td><td>21</td></tr>\n",
       "\t<tr><td>Regular</td><td>TRUE </td><td>7dc01f10bf20671ecfccdac23812b1b415acd42c2147cb0af4d48fcce2420f3e</td><td> 0.1</td><td>Kylie    </td><td>Male  </td><td>21</td></tr>\n",
       "\t<tr><td>Amateur</td><td>TRUE </td><td>f58aad5996a435f16b0284a3b267f973f9af99e7a89bee0430055a44fa92f977</td><td> 0.0</td><td>Adrian   </td><td>Female</td><td>17</td></tr>\n",
       "</tbody>\n",
       "</table>\n"
      ],
      "text/latex": [
       "A tibble: 6 × 7\n",
       "\\begin{tabular}{lllllll}\n",
       " experience & subscribe & hashedEmail & played\\_hours & name & gender & Age\\\\\n",
       " <chr> & <fct> & <chr> & <dbl> & <chr> & <chr> & <dbl>\\\\\n",
       "\\hline\n",
       "\t Pro     & TRUE  & f6daba428a5e19a3d47574858c13550499be23603422e6a0ee9728f8b53e192d & 30.3 & Morgan    & Male   &  9\\\\\n",
       "\t Veteran & TRUE  & f3c813577c458ba0dfef80996f8f32c93b6e8af1fa939732842f2312358a88e9 &  3.8 & Christian & Male   & 17\\\\\n",
       "\t Veteran & FALSE & b674dd7ee0d24096d1c019615ce4d12b20fcbff12d79d3c5a9d2118eb7ccbb28 &  0.0 & Blake     & Male   & 17\\\\\n",
       "\t Amateur & TRUE  & 23fe711e0e3b77f1da7aa221ab1192afe21648d47d2b4fa7a5a659ff443a0eb5 &  0.7 & Flora     & Female & 21\\\\\n",
       "\t Regular & TRUE  & 7dc01f10bf20671ecfccdac23812b1b415acd42c2147cb0af4d48fcce2420f3e &  0.1 & Kylie     & Male   & 21\\\\\n",
       "\t Amateur & TRUE  & f58aad5996a435f16b0284a3b267f973f9af99e7a89bee0430055a44fa92f977 &  0.0 & Adrian    & Female & 17\\\\\n",
       "\\end{tabular}\n"
      ],
      "text/markdown": [
       "\n",
       "A tibble: 6 × 7\n",
       "\n",
       "| experience &lt;chr&gt; | subscribe &lt;fct&gt; | hashedEmail &lt;chr&gt; | played_hours &lt;dbl&gt; | name &lt;chr&gt; | gender &lt;chr&gt; | Age &lt;dbl&gt; |\n",
       "|---|---|---|---|---|---|---|\n",
       "| Pro     | TRUE  | f6daba428a5e19a3d47574858c13550499be23603422e6a0ee9728f8b53e192d | 30.3 | Morgan    | Male   |  9 |\n",
       "| Veteran | TRUE  | f3c813577c458ba0dfef80996f8f32c93b6e8af1fa939732842f2312358a88e9 |  3.8 | Christian | Male   | 17 |\n",
       "| Veteran | FALSE | b674dd7ee0d24096d1c019615ce4d12b20fcbff12d79d3c5a9d2118eb7ccbb28 |  0.0 | Blake     | Male   | 17 |\n",
       "| Amateur | TRUE  | 23fe711e0e3b77f1da7aa221ab1192afe21648d47d2b4fa7a5a659ff443a0eb5 |  0.7 | Flora     | Female | 21 |\n",
       "| Regular | TRUE  | 7dc01f10bf20671ecfccdac23812b1b415acd42c2147cb0af4d48fcce2420f3e |  0.1 | Kylie     | Male   | 21 |\n",
       "| Amateur | TRUE  | f58aad5996a435f16b0284a3b267f973f9af99e7a89bee0430055a44fa92f977 |  0.0 | Adrian    | Female | 17 |\n",
       "\n"
      ],
      "text/plain": [
       "  experience subscribe\n",
       "1 Pro        TRUE     \n",
       "2 Veteran    TRUE     \n",
       "3 Veteran    FALSE    \n",
       "4 Amateur    TRUE     \n",
       "5 Regular    TRUE     \n",
       "6 Amateur    TRUE     \n",
       "  hashedEmail                                                      played_hours\n",
       "1 f6daba428a5e19a3d47574858c13550499be23603422e6a0ee9728f8b53e192d 30.3        \n",
       "2 f3c813577c458ba0dfef80996f8f32c93b6e8af1fa939732842f2312358a88e9  3.8        \n",
       "3 b674dd7ee0d24096d1c019615ce4d12b20fcbff12d79d3c5a9d2118eb7ccbb28  0.0        \n",
       "4 23fe711e0e3b77f1da7aa221ab1192afe21648d47d2b4fa7a5a659ff443a0eb5  0.7        \n",
       "5 7dc01f10bf20671ecfccdac23812b1b415acd42c2147cb0af4d48fcce2420f3e  0.1        \n",
       "6 f58aad5996a435f16b0284a3b267f973f9af99e7a89bee0430055a44fa92f977  0.0        \n",
       "  name      gender Age\n",
       "1 Morgan    Male    9 \n",
       "2 Christian Male   17 \n",
       "3 Blake     Male   17 \n",
       "4 Flora     Female 21 \n",
       "5 Kylie     Male   21 \n",
       "6 Adrian    Female 17 "
      ]
     },
     "metadata": {},
     "output_type": "display_data"
    }
   ],
   "source": [
    "players <- read_csv(\"players.csv\") |>\n",
    "   mutate(subscribe = as.factor(subscribe))\n",
    "head(players)"
   ]
  },
  {
   "cell_type": "markdown",
   "id": "735c9239-6846-444a-be6c-e6af7791eec7",
   "metadata": {},
   "source": [
    "to make it reproducable, we will create both models on the same training set and test it on the same testing set."
   ]
  },
  {
   "cell_type": "code",
   "execution_count": 48,
   "id": "36cdd6ad-21f5-4cc2-93b1-f912b8adb61e",
   "metadata": {},
   "outputs": [],
   "source": [
    "players_split <- initial_split(players, prop = 0.8, strata = subscribe)\n",
    "players_train <- training(players_split)\n",
    "players_test <- testing(players_split)"
   ]
  },
  {
   "cell_type": "markdown",
   "id": "2c6dc2c4-b181-4813-b4cc-2b787c60723d",
   "metadata": {},
   "source": [
    "below are three recipes each to to test each variable alone and then one using both of them to predict it they subscribe."
   ]
  },
  {
   "cell_type": "code",
   "execution_count": 49,
   "id": "4f4a97e7-1e51-42c4-a219-2e7243ba9032",
   "metadata": {},
   "outputs": [],
   "source": [
    "players_1A_recipe <- recipe(subscribe ~ played_hours, data = players_train) |>\n",
    "  step_scale(all_predictors()) |>\n",
    "  step_center(all_predictors())\n",
    "players_1B_recipe <- recipe(subscribe ~ Age, data = players_train) |>\n",
    "  step_scale(all_predictors()) |>\n",
    "  step_center(all_predictors())\n",
    "players_2_recipe <- recipe(subscribe ~ played_hours + Age, data = players_train) |>\n",
    "  step_scale(all_predictors()) |>\n",
    "  step_center(all_predictors())"
   ]
  },
  {
   "cell_type": "markdown",
   "id": "93a878d9-3c7a-4d1f-a401-ea07924ccab5",
   "metadata": {},
   "source": [
    "now to find the best k for each we use tuning."
   ]
  },
  {
   "cell_type": "code",
   "execution_count": 50,
   "id": "d518772f-b4b8-4b8b-9789-2adc8583ddb2",
   "metadata": {},
   "outputs": [
    {
     "name": "stderr",
     "output_type": "stream",
     "text": [
      "→ \u001b[31m\u001b[1mA\u001b[22m\u001b[39m | \u001b[31merror\u001b[39m:   \u001b[1m\u001b[22mAssigned data `orig_rows` must be compatible with existing data.\n",
      "               \u001b[31m✖\u001b[39m Existing data has 30 rows.\n",
      "               \u001b[31m✖\u001b[39m Assigned data has 31 rows.\n",
      "               \u001b[36mℹ\u001b[39m Only vectors of size 1 are recycled.\n",
      "               \u001b[1mCaused by error in `vectbl_recycle_rhs_rows()`:\u001b[22m\n",
      "               \u001b[33m!\u001b[39m Can't recycle input of size 31 to size 30.\n",
      "\n",
      "There were issues with some computations   \u001b[1m\u001b[31mA\u001b[39m\u001b[22m: x1\n",
      "\n",
      "There were issues with some computations   \u001b[1m\u001b[31mA\u001b[39m\u001b[22m: x2\n",
      "\n",
      "\n",
      "\n",
      "→ \u001b[31m\u001b[1mA\u001b[22m\u001b[39m | \u001b[31merror\u001b[39m:   \u001b[1m\u001b[22mAssigned data `orig_rows` must be compatible with existing data.\n",
      "               \u001b[31m✖\u001b[39m Existing data has 30 rows.\n",
      "               \u001b[31m✖\u001b[39m Assigned data has 31 rows.\n",
      "               \u001b[36mℹ\u001b[39m Only vectors of size 1 are recycled.\n",
      "               \u001b[1mCaused by error in `vectbl_recycle_rhs_rows()`:\u001b[22m\n",
      "               \u001b[33m!\u001b[39m Can't recycle input of size 31 to size 30.\n",
      "\n"
     ]
    },
    {
     "data": {
      "text/html": [
       "<table class=\"dataframe\">\n",
       "<caption>A tibble: 20 × 7</caption>\n",
       "<thead>\n",
       "\t<tr><th scope=col>neighbors</th><th scope=col>.metric</th><th scope=col>.estimator</th><th scope=col>mean</th><th scope=col>n</th><th scope=col>std_err</th><th scope=col>.config</th></tr>\n",
       "\t<tr><th scope=col>&lt;int&gt;</th><th scope=col>&lt;chr&gt;</th><th scope=col>&lt;chr&gt;</th><th scope=col>&lt;dbl&gt;</th><th scope=col>&lt;int&gt;</th><th scope=col>&lt;dbl&gt;</th><th scope=col>&lt;chr&gt;</th></tr>\n",
       "</thead>\n",
       "<tbody>\n",
       "\t<tr><td> 1</td><td>accuracy</td><td>binary</td><td>0.4233871</td><td>5</td><td>0.020161290</td><td>Preprocessor1_Model01</td></tr>\n",
       "\t<tr><td> 1</td><td>roc_auc </td><td>binary</td><td>0.5313406</td><td>5</td><td>0.024241879</td><td>Preprocessor1_Model01</td></tr>\n",
       "\t<tr><td> 2</td><td>accuracy</td><td>binary</td><td>0.4169355</td><td>5</td><td>0.018895765</td><td>Preprocessor1_Model02</td></tr>\n",
       "\t<tr><td> 2</td><td>roc_auc </td><td>binary</td><td>0.5655193</td><td>5</td><td>0.020603870</td><td>Preprocessor1_Model02</td></tr>\n",
       "\t<tr><td> 3</td><td>accuracy</td><td>binary</td><td>0.4870968</td><td>5</td><td>0.010698790</td><td>Preprocessor1_Model03</td></tr>\n",
       "\t<tr><td> 3</td><td>roc_auc </td><td>binary</td><td>0.5801932</td><td>5</td><td>0.030216869</td><td>Preprocessor1_Model03</td></tr>\n",
       "\t<tr><td> 4</td><td>accuracy</td><td>binary</td><td>0.4806452</td><td>5</td><td>0.016448450</td><td>Preprocessor1_Model04</td></tr>\n",
       "\t<tr><td> 4</td><td>roc_auc </td><td>binary</td><td>0.5699275</td><td>5</td><td>0.031177584</td><td>Preprocessor1_Model04</td></tr>\n",
       "\t<tr><td> 5</td><td>accuracy</td><td>binary</td><td>0.4741935</td><td>5</td><td>0.009677419</td><td>Preprocessor1_Model05</td></tr>\n",
       "\t<tr><td> 5</td><td>roc_auc </td><td>binary</td><td>0.5735507</td><td>5</td><td>0.026786796</td><td>Preprocessor1_Model05</td></tr>\n",
       "\t<tr><td> 6</td><td>accuracy</td><td>binary</td><td>0.4677419</td><td>5</td><td>0.010200896</td><td>Preprocessor1_Model06</td></tr>\n",
       "\t<tr><td> 6</td><td>roc_auc </td><td>binary</td><td>0.5740942</td><td>5</td><td>0.024737384</td><td>Preprocessor1_Model06</td></tr>\n",
       "\t<tr><td> 7</td><td>accuracy</td><td>binary</td><td>0.4870968</td><td>5</td><td>0.017960530</td><td>Preprocessor1_Model07</td></tr>\n",
       "\t<tr><td> 7</td><td>roc_auc </td><td>binary</td><td>0.5784420</td><td>5</td><td>0.025163559</td><td>Preprocessor1_Model07</td></tr>\n",
       "\t<tr><td> 8</td><td>accuracy</td><td>binary</td><td>0.4870968</td><td>5</td><td>0.017960530</td><td>Preprocessor1_Model08</td></tr>\n",
       "\t<tr><td> 8</td><td>roc_auc </td><td>binary</td><td>0.5727657</td><td>5</td><td>0.024807010</td><td>Preprocessor1_Model08</td></tr>\n",
       "\t<tr><td> 9</td><td>accuracy</td><td>binary</td><td>0.4743952</td><td>5</td><td>0.012044578</td><td>Preprocessor1_Model09</td></tr>\n",
       "\t<tr><td> 9</td><td>roc_auc </td><td>binary</td><td>0.5858092</td><td>5</td><td>0.023705325</td><td>Preprocessor1_Model09</td></tr>\n",
       "\t<tr><td>10</td><td>accuracy</td><td>binary</td><td>0.4743952</td><td>5</td><td>0.012044578</td><td>Preprocessor1_Model10</td></tr>\n",
       "\t<tr><td>10</td><td>roc_auc </td><td>binary</td><td>0.5832126</td><td>5</td><td>0.026220979</td><td>Preprocessor1_Model10</td></tr>\n",
       "</tbody>\n",
       "</table>\n"
      ],
      "text/latex": [
       "A tibble: 20 × 7\n",
       "\\begin{tabular}{lllllll}\n",
       " neighbors & .metric & .estimator & mean & n & std\\_err & .config\\\\\n",
       " <int> & <chr> & <chr> & <dbl> & <int> & <dbl> & <chr>\\\\\n",
       "\\hline\n",
       "\t  1 & accuracy & binary & 0.4233871 & 5 & 0.020161290 & Preprocessor1\\_Model01\\\\\n",
       "\t  1 & roc\\_auc  & binary & 0.5313406 & 5 & 0.024241879 & Preprocessor1\\_Model01\\\\\n",
       "\t  2 & accuracy & binary & 0.4169355 & 5 & 0.018895765 & Preprocessor1\\_Model02\\\\\n",
       "\t  2 & roc\\_auc  & binary & 0.5655193 & 5 & 0.020603870 & Preprocessor1\\_Model02\\\\\n",
       "\t  3 & accuracy & binary & 0.4870968 & 5 & 0.010698790 & Preprocessor1\\_Model03\\\\\n",
       "\t  3 & roc\\_auc  & binary & 0.5801932 & 5 & 0.030216869 & Preprocessor1\\_Model03\\\\\n",
       "\t  4 & accuracy & binary & 0.4806452 & 5 & 0.016448450 & Preprocessor1\\_Model04\\\\\n",
       "\t  4 & roc\\_auc  & binary & 0.5699275 & 5 & 0.031177584 & Preprocessor1\\_Model04\\\\\n",
       "\t  5 & accuracy & binary & 0.4741935 & 5 & 0.009677419 & Preprocessor1\\_Model05\\\\\n",
       "\t  5 & roc\\_auc  & binary & 0.5735507 & 5 & 0.026786796 & Preprocessor1\\_Model05\\\\\n",
       "\t  6 & accuracy & binary & 0.4677419 & 5 & 0.010200896 & Preprocessor1\\_Model06\\\\\n",
       "\t  6 & roc\\_auc  & binary & 0.5740942 & 5 & 0.024737384 & Preprocessor1\\_Model06\\\\\n",
       "\t  7 & accuracy & binary & 0.4870968 & 5 & 0.017960530 & Preprocessor1\\_Model07\\\\\n",
       "\t  7 & roc\\_auc  & binary & 0.5784420 & 5 & 0.025163559 & Preprocessor1\\_Model07\\\\\n",
       "\t  8 & accuracy & binary & 0.4870968 & 5 & 0.017960530 & Preprocessor1\\_Model08\\\\\n",
       "\t  8 & roc\\_auc  & binary & 0.5727657 & 5 & 0.024807010 & Preprocessor1\\_Model08\\\\\n",
       "\t  9 & accuracy & binary & 0.4743952 & 5 & 0.012044578 & Preprocessor1\\_Model09\\\\\n",
       "\t  9 & roc\\_auc  & binary & 0.5858092 & 5 & 0.023705325 & Preprocessor1\\_Model09\\\\\n",
       "\t 10 & accuracy & binary & 0.4743952 & 5 & 0.012044578 & Preprocessor1\\_Model10\\\\\n",
       "\t 10 & roc\\_auc  & binary & 0.5832126 & 5 & 0.026220979 & Preprocessor1\\_Model10\\\\\n",
       "\\end{tabular}\n"
      ],
      "text/markdown": [
       "\n",
       "A tibble: 20 × 7\n",
       "\n",
       "| neighbors &lt;int&gt; | .metric &lt;chr&gt; | .estimator &lt;chr&gt; | mean &lt;dbl&gt; | n &lt;int&gt; | std_err &lt;dbl&gt; | .config &lt;chr&gt; |\n",
       "|---|---|---|---|---|---|---|\n",
       "|  1 | accuracy | binary | 0.4233871 | 5 | 0.020161290 | Preprocessor1_Model01 |\n",
       "|  1 | roc_auc  | binary | 0.5313406 | 5 | 0.024241879 | Preprocessor1_Model01 |\n",
       "|  2 | accuracy | binary | 0.4169355 | 5 | 0.018895765 | Preprocessor1_Model02 |\n",
       "|  2 | roc_auc  | binary | 0.5655193 | 5 | 0.020603870 | Preprocessor1_Model02 |\n",
       "|  3 | accuracy | binary | 0.4870968 | 5 | 0.010698790 | Preprocessor1_Model03 |\n",
       "|  3 | roc_auc  | binary | 0.5801932 | 5 | 0.030216869 | Preprocessor1_Model03 |\n",
       "|  4 | accuracy | binary | 0.4806452 | 5 | 0.016448450 | Preprocessor1_Model04 |\n",
       "|  4 | roc_auc  | binary | 0.5699275 | 5 | 0.031177584 | Preprocessor1_Model04 |\n",
       "|  5 | accuracy | binary | 0.4741935 | 5 | 0.009677419 | Preprocessor1_Model05 |\n",
       "|  5 | roc_auc  | binary | 0.5735507 | 5 | 0.026786796 | Preprocessor1_Model05 |\n",
       "|  6 | accuracy | binary | 0.4677419 | 5 | 0.010200896 | Preprocessor1_Model06 |\n",
       "|  6 | roc_auc  | binary | 0.5740942 | 5 | 0.024737384 | Preprocessor1_Model06 |\n",
       "|  7 | accuracy | binary | 0.4870968 | 5 | 0.017960530 | Preprocessor1_Model07 |\n",
       "|  7 | roc_auc  | binary | 0.5784420 | 5 | 0.025163559 | Preprocessor1_Model07 |\n",
       "|  8 | accuracy | binary | 0.4870968 | 5 | 0.017960530 | Preprocessor1_Model08 |\n",
       "|  8 | roc_auc  | binary | 0.5727657 | 5 | 0.024807010 | Preprocessor1_Model08 |\n",
       "|  9 | accuracy | binary | 0.4743952 | 5 | 0.012044578 | Preprocessor1_Model09 |\n",
       "|  9 | roc_auc  | binary | 0.5858092 | 5 | 0.023705325 | Preprocessor1_Model09 |\n",
       "| 10 | accuracy | binary | 0.4743952 | 5 | 0.012044578 | Preprocessor1_Model10 |\n",
       "| 10 | roc_auc  | binary | 0.5832126 | 5 | 0.026220979 | Preprocessor1_Model10 |\n",
       "\n"
      ],
      "text/plain": [
       "   neighbors .metric  .estimator mean      n std_err     .config              \n",
       "1   1        accuracy binary     0.4233871 5 0.020161290 Preprocessor1_Model01\n",
       "2   1        roc_auc  binary     0.5313406 5 0.024241879 Preprocessor1_Model01\n",
       "3   2        accuracy binary     0.4169355 5 0.018895765 Preprocessor1_Model02\n",
       "4   2        roc_auc  binary     0.5655193 5 0.020603870 Preprocessor1_Model02\n",
       "5   3        accuracy binary     0.4870968 5 0.010698790 Preprocessor1_Model03\n",
       "6   3        roc_auc  binary     0.5801932 5 0.030216869 Preprocessor1_Model03\n",
       "7   4        accuracy binary     0.4806452 5 0.016448450 Preprocessor1_Model04\n",
       "8   4        roc_auc  binary     0.5699275 5 0.031177584 Preprocessor1_Model04\n",
       "9   5        accuracy binary     0.4741935 5 0.009677419 Preprocessor1_Model05\n",
       "10  5        roc_auc  binary     0.5735507 5 0.026786796 Preprocessor1_Model05\n",
       "11  6        accuracy binary     0.4677419 5 0.010200896 Preprocessor1_Model06\n",
       "12  6        roc_auc  binary     0.5740942 5 0.024737384 Preprocessor1_Model06\n",
       "13  7        accuracy binary     0.4870968 5 0.017960530 Preprocessor1_Model07\n",
       "14  7        roc_auc  binary     0.5784420 5 0.025163559 Preprocessor1_Model07\n",
       "15  8        accuracy binary     0.4870968 5 0.017960530 Preprocessor1_Model08\n",
       "16  8        roc_auc  binary     0.5727657 5 0.024807010 Preprocessor1_Model08\n",
       "17  9        accuracy binary     0.4743952 5 0.012044578 Preprocessor1_Model09\n",
       "18  9        roc_auc  binary     0.5858092 5 0.023705325 Preprocessor1_Model09\n",
       "19 10        accuracy binary     0.4743952 5 0.012044578 Preprocessor1_Model10\n",
       "20 10        roc_auc  binary     0.5832126 5 0.026220979 Preprocessor1_Model10"
      ]
     },
     "metadata": {},
     "output_type": "display_data"
    },
    {
     "data": {
      "text/html": [
       "<table class=\"dataframe\">\n",
       "<caption>A tibble: 20 × 7</caption>\n",
       "<thead>\n",
       "\t<tr><th scope=col>neighbors</th><th scope=col>.metric</th><th scope=col>.estimator</th><th scope=col>mean</th><th scope=col>n</th><th scope=col>std_err</th><th scope=col>.config</th></tr>\n",
       "\t<tr><th scope=col>&lt;int&gt;</th><th scope=col>&lt;chr&gt;</th><th scope=col>&lt;chr&gt;</th><th scope=col>&lt;dbl&gt;</th><th scope=col>&lt;int&gt;</th><th scope=col>&lt;dbl&gt;</th><th scope=col>&lt;chr&gt;</th></tr>\n",
       "</thead>\n",
       "<tbody>\n",
       "\t<tr><td> 1</td><td>accuracy</td><td>binary</td><td>0.4139785</td><td>3</td><td>0.04400727</td><td>Preprocessor1_Model01</td></tr>\n",
       "\t<tr><td> 1</td><td>roc_auc </td><td>binary</td><td>0.4861111</td><td>3</td><td>0.05203496</td><td>Preprocessor1_Model01</td></tr>\n",
       "\t<tr><td> 2</td><td>accuracy</td><td>binary</td><td>0.4139785</td><td>3</td><td>0.04400727</td><td>Preprocessor1_Model02</td></tr>\n",
       "\t<tr><td> 2</td><td>roc_auc </td><td>binary</td><td>0.4814815</td><td>3</td><td>0.03582931</td><td>Preprocessor1_Model02</td></tr>\n",
       "\t<tr><td> 3</td><td>accuracy</td><td>binary</td><td>0.4677419</td><td>3</td><td>0.02463750</td><td>Preprocessor1_Model03</td></tr>\n",
       "\t<tr><td> 3</td><td>roc_auc </td><td>binary</td><td>0.5060386</td><td>3</td><td>0.03380025</td><td>Preprocessor1_Model03</td></tr>\n",
       "\t<tr><td> 4</td><td>accuracy</td><td>binary</td><td>0.4358199</td><td>3</td><td>0.04072520</td><td>Preprocessor1_Model04</td></tr>\n",
       "\t<tr><td> 4</td><td>roc_auc </td><td>binary</td><td>0.4934581</td><td>3</td><td>0.03836733</td><td>Preprocessor1_Model04</td></tr>\n",
       "\t<tr><td> 5</td><td>accuracy</td><td>binary</td><td>0.4993280</td><td>3</td><td>0.04216769</td><td>Preprocessor1_Model05</td></tr>\n",
       "\t<tr><td> 5</td><td>roc_auc </td><td>binary</td><td>0.5183172</td><td>3</td><td>0.03190419</td><td>Preprocessor1_Model05</td></tr>\n",
       "\t<tr><td> 6</td><td>accuracy</td><td>binary</td><td>0.5100806</td><td>3</td><td>0.04554548</td><td>Preprocessor1_Model06</td></tr>\n",
       "\t<tr><td> 6</td><td>roc_auc </td><td>binary</td><td>0.5263688</td><td>3</td><td>0.01848485</td><td>Preprocessor1_Model06</td></tr>\n",
       "\t<tr><td> 7</td><td>accuracy</td><td>binary</td><td>0.5208333</td><td>3</td><td>0.05100891</td><td>Preprocessor1_Model07</td></tr>\n",
       "\t<tr><td> 7</td><td>roc_auc </td><td>binary</td><td>0.5325081</td><td>3</td><td>0.01353692</td><td>Preprocessor1_Model07</td></tr>\n",
       "\t<tr><td> 8</td><td>accuracy</td><td>binary</td><td>0.5208333</td><td>3</td><td>0.05100891</td><td>Preprocessor1_Model08</td></tr>\n",
       "\t<tr><td> 8</td><td>roc_auc </td><td>binary</td><td>0.5301932</td><td>3</td><td>0.01138970</td><td>Preprocessor1_Model08</td></tr>\n",
       "\t<tr><td> 9</td><td>accuracy</td><td>binary</td><td>0.5853495</td><td>3</td><td>0.04794169</td><td>Preprocessor1_Model09</td></tr>\n",
       "\t<tr><td> 9</td><td>roc_auc </td><td>binary</td><td>0.5288849</td><td>3</td><td>0.01451824</td><td>Preprocessor1_Model09</td></tr>\n",
       "\t<tr><td>10</td><td>accuracy</td><td>binary</td><td>0.5645161</td><td>3</td><td>0.05664330</td><td>Preprocessor1_Model10</td></tr>\n",
       "\t<tr><td>10</td><td>roc_auc </td><td>binary</td><td>0.5245572</td><td>3</td><td>0.01128965</td><td>Preprocessor1_Model10</td></tr>\n",
       "</tbody>\n",
       "</table>\n"
      ],
      "text/latex": [
       "A tibble: 20 × 7\n",
       "\\begin{tabular}{lllllll}\n",
       " neighbors & .metric & .estimator & mean & n & std\\_err & .config\\\\\n",
       " <int> & <chr> & <chr> & <dbl> & <int> & <dbl> & <chr>\\\\\n",
       "\\hline\n",
       "\t  1 & accuracy & binary & 0.4139785 & 3 & 0.04400727 & Preprocessor1\\_Model01\\\\\n",
       "\t  1 & roc\\_auc  & binary & 0.4861111 & 3 & 0.05203496 & Preprocessor1\\_Model01\\\\\n",
       "\t  2 & accuracy & binary & 0.4139785 & 3 & 0.04400727 & Preprocessor1\\_Model02\\\\\n",
       "\t  2 & roc\\_auc  & binary & 0.4814815 & 3 & 0.03582931 & Preprocessor1\\_Model02\\\\\n",
       "\t  3 & accuracy & binary & 0.4677419 & 3 & 0.02463750 & Preprocessor1\\_Model03\\\\\n",
       "\t  3 & roc\\_auc  & binary & 0.5060386 & 3 & 0.03380025 & Preprocessor1\\_Model03\\\\\n",
       "\t  4 & accuracy & binary & 0.4358199 & 3 & 0.04072520 & Preprocessor1\\_Model04\\\\\n",
       "\t  4 & roc\\_auc  & binary & 0.4934581 & 3 & 0.03836733 & Preprocessor1\\_Model04\\\\\n",
       "\t  5 & accuracy & binary & 0.4993280 & 3 & 0.04216769 & Preprocessor1\\_Model05\\\\\n",
       "\t  5 & roc\\_auc  & binary & 0.5183172 & 3 & 0.03190419 & Preprocessor1\\_Model05\\\\\n",
       "\t  6 & accuracy & binary & 0.5100806 & 3 & 0.04554548 & Preprocessor1\\_Model06\\\\\n",
       "\t  6 & roc\\_auc  & binary & 0.5263688 & 3 & 0.01848485 & Preprocessor1\\_Model06\\\\\n",
       "\t  7 & accuracy & binary & 0.5208333 & 3 & 0.05100891 & Preprocessor1\\_Model07\\\\\n",
       "\t  7 & roc\\_auc  & binary & 0.5325081 & 3 & 0.01353692 & Preprocessor1\\_Model07\\\\\n",
       "\t  8 & accuracy & binary & 0.5208333 & 3 & 0.05100891 & Preprocessor1\\_Model08\\\\\n",
       "\t  8 & roc\\_auc  & binary & 0.5301932 & 3 & 0.01138970 & Preprocessor1\\_Model08\\\\\n",
       "\t  9 & accuracy & binary & 0.5853495 & 3 & 0.04794169 & Preprocessor1\\_Model09\\\\\n",
       "\t  9 & roc\\_auc  & binary & 0.5288849 & 3 & 0.01451824 & Preprocessor1\\_Model09\\\\\n",
       "\t 10 & accuracy & binary & 0.5645161 & 3 & 0.05664330 & Preprocessor1\\_Model10\\\\\n",
       "\t 10 & roc\\_auc  & binary & 0.5245572 & 3 & 0.01128965 & Preprocessor1\\_Model10\\\\\n",
       "\\end{tabular}\n"
      ],
      "text/markdown": [
       "\n",
       "A tibble: 20 × 7\n",
       "\n",
       "| neighbors &lt;int&gt; | .metric &lt;chr&gt; | .estimator &lt;chr&gt; | mean &lt;dbl&gt; | n &lt;int&gt; | std_err &lt;dbl&gt; | .config &lt;chr&gt; |\n",
       "|---|---|---|---|---|---|---|\n",
       "|  1 | accuracy | binary | 0.4139785 | 3 | 0.04400727 | Preprocessor1_Model01 |\n",
       "|  1 | roc_auc  | binary | 0.4861111 | 3 | 0.05203496 | Preprocessor1_Model01 |\n",
       "|  2 | accuracy | binary | 0.4139785 | 3 | 0.04400727 | Preprocessor1_Model02 |\n",
       "|  2 | roc_auc  | binary | 0.4814815 | 3 | 0.03582931 | Preprocessor1_Model02 |\n",
       "|  3 | accuracy | binary | 0.4677419 | 3 | 0.02463750 | Preprocessor1_Model03 |\n",
       "|  3 | roc_auc  | binary | 0.5060386 | 3 | 0.03380025 | Preprocessor1_Model03 |\n",
       "|  4 | accuracy | binary | 0.4358199 | 3 | 0.04072520 | Preprocessor1_Model04 |\n",
       "|  4 | roc_auc  | binary | 0.4934581 | 3 | 0.03836733 | Preprocessor1_Model04 |\n",
       "|  5 | accuracy | binary | 0.4993280 | 3 | 0.04216769 | Preprocessor1_Model05 |\n",
       "|  5 | roc_auc  | binary | 0.5183172 | 3 | 0.03190419 | Preprocessor1_Model05 |\n",
       "|  6 | accuracy | binary | 0.5100806 | 3 | 0.04554548 | Preprocessor1_Model06 |\n",
       "|  6 | roc_auc  | binary | 0.5263688 | 3 | 0.01848485 | Preprocessor1_Model06 |\n",
       "|  7 | accuracy | binary | 0.5208333 | 3 | 0.05100891 | Preprocessor1_Model07 |\n",
       "|  7 | roc_auc  | binary | 0.5325081 | 3 | 0.01353692 | Preprocessor1_Model07 |\n",
       "|  8 | accuracy | binary | 0.5208333 | 3 | 0.05100891 | Preprocessor1_Model08 |\n",
       "|  8 | roc_auc  | binary | 0.5301932 | 3 | 0.01138970 | Preprocessor1_Model08 |\n",
       "|  9 | accuracy | binary | 0.5853495 | 3 | 0.04794169 | Preprocessor1_Model09 |\n",
       "|  9 | roc_auc  | binary | 0.5288849 | 3 | 0.01451824 | Preprocessor1_Model09 |\n",
       "| 10 | accuracy | binary | 0.5645161 | 3 | 0.05664330 | Preprocessor1_Model10 |\n",
       "| 10 | roc_auc  | binary | 0.5245572 | 3 | 0.01128965 | Preprocessor1_Model10 |\n",
       "\n"
      ],
      "text/plain": [
       "   neighbors .metric  .estimator mean      n std_err    .config              \n",
       "1   1        accuracy binary     0.4139785 3 0.04400727 Preprocessor1_Model01\n",
       "2   1        roc_auc  binary     0.4861111 3 0.05203496 Preprocessor1_Model01\n",
       "3   2        accuracy binary     0.4139785 3 0.04400727 Preprocessor1_Model02\n",
       "4   2        roc_auc  binary     0.4814815 3 0.03582931 Preprocessor1_Model02\n",
       "5   3        accuracy binary     0.4677419 3 0.02463750 Preprocessor1_Model03\n",
       "6   3        roc_auc  binary     0.5060386 3 0.03380025 Preprocessor1_Model03\n",
       "7   4        accuracy binary     0.4358199 3 0.04072520 Preprocessor1_Model04\n",
       "8   4        roc_auc  binary     0.4934581 3 0.03836733 Preprocessor1_Model04\n",
       "9   5        accuracy binary     0.4993280 3 0.04216769 Preprocessor1_Model05\n",
       "10  5        roc_auc  binary     0.5183172 3 0.03190419 Preprocessor1_Model05\n",
       "11  6        accuracy binary     0.5100806 3 0.04554548 Preprocessor1_Model06\n",
       "12  6        roc_auc  binary     0.5263688 3 0.01848485 Preprocessor1_Model06\n",
       "13  7        accuracy binary     0.5208333 3 0.05100891 Preprocessor1_Model07\n",
       "14  7        roc_auc  binary     0.5325081 3 0.01353692 Preprocessor1_Model07\n",
       "15  8        accuracy binary     0.5208333 3 0.05100891 Preprocessor1_Model08\n",
       "16  8        roc_auc  binary     0.5301932 3 0.01138970 Preprocessor1_Model08\n",
       "17  9        accuracy binary     0.5853495 3 0.04794169 Preprocessor1_Model09\n",
       "18  9        roc_auc  binary     0.5288849 3 0.01451824 Preprocessor1_Model09\n",
       "19 10        accuracy binary     0.5645161 3 0.05664330 Preprocessor1_Model10\n",
       "20 10        roc_auc  binary     0.5245572 3 0.01128965 Preprocessor1_Model10"
      ]
     },
     "metadata": {},
     "output_type": "display_data"
    },
    {
     "data": {
      "text/html": [
       "<table class=\"dataframe\">\n",
       "<caption>A tibble: 20 × 7</caption>\n",
       "<thead>\n",
       "\t<tr><th scope=col>neighbors</th><th scope=col>.metric</th><th scope=col>.estimator</th><th scope=col>mean</th><th scope=col>n</th><th scope=col>std_err</th><th scope=col>.config</th></tr>\n",
       "\t<tr><th scope=col>&lt;int&gt;</th><th scope=col>&lt;chr&gt;</th><th scope=col>&lt;chr&gt;</th><th scope=col>&lt;dbl&gt;</th><th scope=col>&lt;int&gt;</th><th scope=col>&lt;dbl&gt;</th><th scope=col>&lt;chr&gt;</th></tr>\n",
       "</thead>\n",
       "<tbody>\n",
       "\t<tr><td> 1</td><td>accuracy</td><td>binary</td><td>0.4996640</td><td>3</td><td>0.040458161</td><td>Preprocessor1_Model01</td></tr>\n",
       "\t<tr><td> 1</td><td>roc_auc </td><td>binary</td><td>0.5056361</td><td>3</td><td>0.074032218</td><td>Preprocessor1_Model01</td></tr>\n",
       "\t<tr><td> 2</td><td>accuracy</td><td>binary</td><td>0.5104167</td><td>3</td><td>0.029815164</td><td>Preprocessor1_Model02</td></tr>\n",
       "\t<tr><td> 2</td><td>roc_auc </td><td>binary</td><td>0.5511272</td><td>3</td><td>0.060242717</td><td>Preprocessor1_Model02</td></tr>\n",
       "\t<tr><td> 3</td><td>accuracy</td><td>binary</td><td>0.5537634</td><td>3</td><td>0.045935504</td><td>Preprocessor1_Model03</td></tr>\n",
       "\t<tr><td> 3</td><td>roc_auc </td><td>binary</td><td>0.5665258</td><td>3</td><td>0.070178837</td><td>Preprocessor1_Model03</td></tr>\n",
       "\t<tr><td> 4</td><td>accuracy</td><td>binary</td><td>0.5638441</td><td>3</td><td>0.027944386</td><td>Preprocessor1_Model04</td></tr>\n",
       "\t<tr><td> 4</td><td>roc_auc </td><td>binary</td><td>0.5604871</td><td>3</td><td>0.064249508</td><td>Preprocessor1_Model04</td></tr>\n",
       "\t<tr><td> 5</td><td>accuracy</td><td>binary</td><td>0.6276882</td><td>3</td><td>0.009408602</td><td>Preprocessor1_Model05</td></tr>\n",
       "\t<tr><td> 5</td><td>roc_auc </td><td>binary</td><td>0.5576691</td><td>3</td><td>0.037031977</td><td>Preprocessor1_Model05</td></tr>\n",
       "\t<tr><td> 6</td><td>accuracy</td><td>binary</td><td>0.6061828</td><td>3</td><td>0.029478108</td><td>Preprocessor1_Model06</td></tr>\n",
       "\t<tr><td> 6</td><td>roc_auc </td><td>binary</td><td>0.5596820</td><td>3</td><td>0.028862762</td><td>Preprocessor1_Model06</td></tr>\n",
       "\t<tr><td> 7</td><td>accuracy</td><td>binary</td><td>0.6280242</td><td>3</td><td>0.025308911</td><td>Preprocessor1_Model07</td></tr>\n",
       "\t<tr><td> 7</td><td>roc_auc </td><td>binary</td><td>0.5671296</td><td>3</td><td>0.024923801</td><td>Preprocessor1_Model07</td></tr>\n",
       "\t<tr><td> 8</td><td>accuracy</td><td>binary</td><td>0.6495296</td><td>3</td><td>0.027889785</td><td>Preprocessor1_Model08</td></tr>\n",
       "\t<tr><td> 8</td><td>roc_auc </td><td>binary</td><td>0.5518317</td><td>3</td><td>0.028428892</td><td>Preprocessor1_Model08</td></tr>\n",
       "\t<tr><td> 9</td><td>accuracy</td><td>binary</td><td>0.6710349</td><td>3</td><td>0.042896406</td><td>Preprocessor1_Model09</td></tr>\n",
       "\t<tr><td> 9</td><td>roc_auc </td><td>binary</td><td>0.5437802</td><td>3</td><td>0.025525342</td><td>Preprocessor1_Model09</td></tr>\n",
       "\t<tr><td>10</td><td>accuracy</td><td>binary</td><td>0.6710349</td><td>3</td><td>0.042896406</td><td>Preprocessor1_Model10</td></tr>\n",
       "\t<tr><td>10</td><td>roc_auc </td><td>binary</td><td>0.5379428</td><td>3</td><td>0.029490789</td><td>Preprocessor1_Model10</td></tr>\n",
       "</tbody>\n",
       "</table>\n"
      ],
      "text/latex": [
       "A tibble: 20 × 7\n",
       "\\begin{tabular}{lllllll}\n",
       " neighbors & .metric & .estimator & mean & n & std\\_err & .config\\\\\n",
       " <int> & <chr> & <chr> & <dbl> & <int> & <dbl> & <chr>\\\\\n",
       "\\hline\n",
       "\t  1 & accuracy & binary & 0.4996640 & 3 & 0.040458161 & Preprocessor1\\_Model01\\\\\n",
       "\t  1 & roc\\_auc  & binary & 0.5056361 & 3 & 0.074032218 & Preprocessor1\\_Model01\\\\\n",
       "\t  2 & accuracy & binary & 0.5104167 & 3 & 0.029815164 & Preprocessor1\\_Model02\\\\\n",
       "\t  2 & roc\\_auc  & binary & 0.5511272 & 3 & 0.060242717 & Preprocessor1\\_Model02\\\\\n",
       "\t  3 & accuracy & binary & 0.5537634 & 3 & 0.045935504 & Preprocessor1\\_Model03\\\\\n",
       "\t  3 & roc\\_auc  & binary & 0.5665258 & 3 & 0.070178837 & Preprocessor1\\_Model03\\\\\n",
       "\t  4 & accuracy & binary & 0.5638441 & 3 & 0.027944386 & Preprocessor1\\_Model04\\\\\n",
       "\t  4 & roc\\_auc  & binary & 0.5604871 & 3 & 0.064249508 & Preprocessor1\\_Model04\\\\\n",
       "\t  5 & accuracy & binary & 0.6276882 & 3 & 0.009408602 & Preprocessor1\\_Model05\\\\\n",
       "\t  5 & roc\\_auc  & binary & 0.5576691 & 3 & 0.037031977 & Preprocessor1\\_Model05\\\\\n",
       "\t  6 & accuracy & binary & 0.6061828 & 3 & 0.029478108 & Preprocessor1\\_Model06\\\\\n",
       "\t  6 & roc\\_auc  & binary & 0.5596820 & 3 & 0.028862762 & Preprocessor1\\_Model06\\\\\n",
       "\t  7 & accuracy & binary & 0.6280242 & 3 & 0.025308911 & Preprocessor1\\_Model07\\\\\n",
       "\t  7 & roc\\_auc  & binary & 0.5671296 & 3 & 0.024923801 & Preprocessor1\\_Model07\\\\\n",
       "\t  8 & accuracy & binary & 0.6495296 & 3 & 0.027889785 & Preprocessor1\\_Model08\\\\\n",
       "\t  8 & roc\\_auc  & binary & 0.5518317 & 3 & 0.028428892 & Preprocessor1\\_Model08\\\\\n",
       "\t  9 & accuracy & binary & 0.6710349 & 3 & 0.042896406 & Preprocessor1\\_Model09\\\\\n",
       "\t  9 & roc\\_auc  & binary & 0.5437802 & 3 & 0.025525342 & Preprocessor1\\_Model09\\\\\n",
       "\t 10 & accuracy & binary & 0.6710349 & 3 & 0.042896406 & Preprocessor1\\_Model10\\\\\n",
       "\t 10 & roc\\_auc  & binary & 0.5379428 & 3 & 0.029490789 & Preprocessor1\\_Model10\\\\\n",
       "\\end{tabular}\n"
      ],
      "text/markdown": [
       "\n",
       "A tibble: 20 × 7\n",
       "\n",
       "| neighbors &lt;int&gt; | .metric &lt;chr&gt; | .estimator &lt;chr&gt; | mean &lt;dbl&gt; | n &lt;int&gt; | std_err &lt;dbl&gt; | .config &lt;chr&gt; |\n",
       "|---|---|---|---|---|---|---|\n",
       "|  1 | accuracy | binary | 0.4996640 | 3 | 0.040458161 | Preprocessor1_Model01 |\n",
       "|  1 | roc_auc  | binary | 0.5056361 | 3 | 0.074032218 | Preprocessor1_Model01 |\n",
       "|  2 | accuracy | binary | 0.5104167 | 3 | 0.029815164 | Preprocessor1_Model02 |\n",
       "|  2 | roc_auc  | binary | 0.5511272 | 3 | 0.060242717 | Preprocessor1_Model02 |\n",
       "|  3 | accuracy | binary | 0.5537634 | 3 | 0.045935504 | Preprocessor1_Model03 |\n",
       "|  3 | roc_auc  | binary | 0.5665258 | 3 | 0.070178837 | Preprocessor1_Model03 |\n",
       "|  4 | accuracy | binary | 0.5638441 | 3 | 0.027944386 | Preprocessor1_Model04 |\n",
       "|  4 | roc_auc  | binary | 0.5604871 | 3 | 0.064249508 | Preprocessor1_Model04 |\n",
       "|  5 | accuracy | binary | 0.6276882 | 3 | 0.009408602 | Preprocessor1_Model05 |\n",
       "|  5 | roc_auc  | binary | 0.5576691 | 3 | 0.037031977 | Preprocessor1_Model05 |\n",
       "|  6 | accuracy | binary | 0.6061828 | 3 | 0.029478108 | Preprocessor1_Model06 |\n",
       "|  6 | roc_auc  | binary | 0.5596820 | 3 | 0.028862762 | Preprocessor1_Model06 |\n",
       "|  7 | accuracy | binary | 0.6280242 | 3 | 0.025308911 | Preprocessor1_Model07 |\n",
       "|  7 | roc_auc  | binary | 0.5671296 | 3 | 0.024923801 | Preprocessor1_Model07 |\n",
       "|  8 | accuracy | binary | 0.6495296 | 3 | 0.027889785 | Preprocessor1_Model08 |\n",
       "|  8 | roc_auc  | binary | 0.5518317 | 3 | 0.028428892 | Preprocessor1_Model08 |\n",
       "|  9 | accuracy | binary | 0.6710349 | 3 | 0.042896406 | Preprocessor1_Model09 |\n",
       "|  9 | roc_auc  | binary | 0.5437802 | 3 | 0.025525342 | Preprocessor1_Model09 |\n",
       "| 10 | accuracy | binary | 0.6710349 | 3 | 0.042896406 | Preprocessor1_Model10 |\n",
       "| 10 | roc_auc  | binary | 0.5379428 | 3 | 0.029490789 | Preprocessor1_Model10 |\n",
       "\n"
      ],
      "text/plain": [
       "   neighbors .metric  .estimator mean      n std_err     .config              \n",
       "1   1        accuracy binary     0.4996640 3 0.040458161 Preprocessor1_Model01\n",
       "2   1        roc_auc  binary     0.5056361 3 0.074032218 Preprocessor1_Model01\n",
       "3   2        accuracy binary     0.5104167 3 0.029815164 Preprocessor1_Model02\n",
       "4   2        roc_auc  binary     0.5511272 3 0.060242717 Preprocessor1_Model02\n",
       "5   3        accuracy binary     0.5537634 3 0.045935504 Preprocessor1_Model03\n",
       "6   3        roc_auc  binary     0.5665258 3 0.070178837 Preprocessor1_Model03\n",
       "7   4        accuracy binary     0.5638441 3 0.027944386 Preprocessor1_Model04\n",
       "8   4        roc_auc  binary     0.5604871 3 0.064249508 Preprocessor1_Model04\n",
       "9   5        accuracy binary     0.6276882 3 0.009408602 Preprocessor1_Model05\n",
       "10  5        roc_auc  binary     0.5576691 3 0.037031977 Preprocessor1_Model05\n",
       "11  6        accuracy binary     0.6061828 3 0.029478108 Preprocessor1_Model06\n",
       "12  6        roc_auc  binary     0.5596820 3 0.028862762 Preprocessor1_Model06\n",
       "13  7        accuracy binary     0.6280242 3 0.025308911 Preprocessor1_Model07\n",
       "14  7        roc_auc  binary     0.5671296 3 0.024923801 Preprocessor1_Model07\n",
       "15  8        accuracy binary     0.6495296 3 0.027889785 Preprocessor1_Model08\n",
       "16  8        roc_auc  binary     0.5518317 3 0.028428892 Preprocessor1_Model08\n",
       "17  9        accuracy binary     0.6710349 3 0.042896406 Preprocessor1_Model09\n",
       "18  9        roc_auc  binary     0.5437802 3 0.025525342 Preprocessor1_Model09\n",
       "19 10        accuracy binary     0.6710349 3 0.042896406 Preprocessor1_Model10\n",
       "20 10        roc_auc  binary     0.5379428 3 0.029490789 Preprocessor1_Model10"
      ]
     },
     "metadata": {},
     "output_type": "display_data"
    }
   ],
   "source": [
    "players_vfold <- vfold_cv(players_train, v = 5, strata = subscribe)\n",
    "players_spec <- nearest_neighbor(weight_func = \"rectangular\",\n",
    "                             neighbors = tune()) |>\n",
    "  set_engine(\"kknn\") |>\n",
    "  set_mode(\"classification\")\n",
    "k_vals <- tibble(neighbors = 1:10)\n",
    "\n",
    "players_1A_results <- workflow() |>\n",
    "  add_recipe(players_1A_recipe) |>\n",
    "  add_model(players_spec) |>\n",
    "  tune_grid(resamples = players_vfold, grid = k_vals) |>\n",
    "  collect_metrics()\n",
    "\n",
    "\n",
    "\n",
    "players_1B_results <- workflow() |>\n",
    "  add_recipe(players_1B_recipe) |>\n",
    "  add_model(players_spec) |>\n",
    "  tune_grid(resamples = players_vfold, grid = k_vals) |>\n",
    "  collect_metrics()\n",
    "\n",
    "\n",
    "\n",
    "players_2_results <- workflow() |>\n",
    "  add_recipe(players_2_recipe) |>\n",
    "  add_model(players_spec) |>\n",
    "  tune_grid(resamples = players_vfold, grid = k_vals) |>\n",
    "  collect_metrics()\n",
    "\n",
    "players_1A_results\n",
    "players_1B_results\n",
    "players_2_results"
   ]
  },
  {
   "cell_type": "markdown",
   "id": "2ac3f36b-caf2-4ce4-b7f6-acb744c27bcf",
   "metadata": {},
   "source": [
    "based on the tibbles we can see that for 1A we should use k = 3, for 1B we should use k = 5 and for 2 we should use k = 3."
   ]
  },
  {
   "cell_type": "code",
   "execution_count": 51,
   "id": "d839c975-28ca-4f6a-8c59-b9d7a2d04749",
   "metadata": {},
   "outputs": [],
   "source": [
    "players_1A_spec <- nearest_neighbor(weight_func = \"rectangular\", neighbors = 3) |>\n",
    "  set_engine(\"kknn\") |>\n",
    "  set_mode(\"classification\")\n",
    "\n",
    "players_1A_fit <- workflow() |>\n",
    "  add_recipe(players_1A_recipe) |>\n",
    "  add_model(players_1A_spec) |>\n",
    "  fit(data = players_train)\n",
    "\n",
    "players_1B_spec <- nearest_neighbor(weight_func = \"rectangular\", neighbors = 5) |>\n",
    "  set_engine(\"kknn\") |>\n",
    "  set_mode(\"classification\")\n",
    "\n",
    "players_1B_fit <- workflow() |>\n",
    "  add_recipe(players_1B_recipe) |>\n",
    "  add_model(players_1B_spec) |>\n",
    "  fit(data = players_train)\n",
    "\n",
    "players_2_spec <- nearest_neighbor(weight_func = \"rectangular\", neighbors = 3) |>\n",
    "  set_engine(\"kknn\") |>\n",
    "  set_mode(\"classification\")\n",
    "\n",
    "players_2_fit <- workflow() |>\n",
    "  add_recipe(players_2_recipe) |>\n",
    "  add_model(players_2_spec) |>\n",
    "  fit(data = players_train)"
   ]
  },
  {
   "cell_type": "markdown",
   "id": "3fe634ae-21a9-4769-92d6-624cf76eaf32",
   "metadata": {},
   "source": [
    "now to get the metrics on our predictions"
   ]
  },
  {
   "cell_type": "code",
   "execution_count": 54,
   "id": "3726354d-a1e7-41bf-8189-5b878837b357",
   "metadata": {},
   "outputs": [
    {
     "data": {
      "text/html": [
       "<table class=\"dataframe\">\n",
       "<caption>A tibble: 1 × 3</caption>\n",
       "<thead>\n",
       "\t<tr><th scope=col>.metric</th><th scope=col>.estimator</th><th scope=col>.estimate</th></tr>\n",
       "\t<tr><th scope=col>&lt;chr&gt;</th><th scope=col>&lt;chr&gt;</th><th scope=col>&lt;dbl&gt;</th></tr>\n",
       "</thead>\n",
       "<tbody>\n",
       "\t<tr><td>accuracy</td><td>binary</td><td>0.55</td></tr>\n",
       "</tbody>\n",
       "</table>\n"
      ],
      "text/latex": [
       "A tibble: 1 × 3\n",
       "\\begin{tabular}{lll}\n",
       " .metric & .estimator & .estimate\\\\\n",
       " <chr> & <chr> & <dbl>\\\\\n",
       "\\hline\n",
       "\t accuracy & binary & 0.55\\\\\n",
       "\\end{tabular}\n"
      ],
      "text/markdown": [
       "\n",
       "A tibble: 1 × 3\n",
       "\n",
       "| .metric &lt;chr&gt; | .estimator &lt;chr&gt; | .estimate &lt;dbl&gt; |\n",
       "|---|---|---|\n",
       "| accuracy | binary | 0.55 |\n",
       "\n"
      ],
      "text/plain": [
       "  .metric  .estimator .estimate\n",
       "1 accuracy binary     0.55     "
      ]
     },
     "metadata": {},
     "output_type": "display_data"
    },
    {
     "data": {
      "text/html": [
       "<table class=\"dataframe\">\n",
       "<caption>A tibble: 1 × 3</caption>\n",
       "<thead>\n",
       "\t<tr><th scope=col>.metric</th><th scope=col>.estimator</th><th scope=col>.estimate</th></tr>\n",
       "\t<tr><th scope=col>&lt;chr&gt;</th><th scope=col>&lt;chr&gt;</th><th scope=col>&lt;dbl&gt;</th></tr>\n",
       "</thead>\n",
       "<tbody>\n",
       "\t<tr><td>accuracy</td><td>binary</td><td>0.5</td></tr>\n",
       "</tbody>\n",
       "</table>\n"
      ],
      "text/latex": [
       "A tibble: 1 × 3\n",
       "\\begin{tabular}{lll}\n",
       " .metric & .estimator & .estimate\\\\\n",
       " <chr> & <chr> & <dbl>\\\\\n",
       "\\hline\n",
       "\t accuracy & binary & 0.5\\\\\n",
       "\\end{tabular}\n"
      ],
      "text/markdown": [
       "\n",
       "A tibble: 1 × 3\n",
       "\n",
       "| .metric &lt;chr&gt; | .estimator &lt;chr&gt; | .estimate &lt;dbl&gt; |\n",
       "|---|---|---|\n",
       "| accuracy | binary | 0.5 |\n",
       "\n"
      ],
      "text/plain": [
       "  .metric  .estimator .estimate\n",
       "1 accuracy binary     0.5      "
      ]
     },
     "metadata": {},
     "output_type": "display_data"
    },
    {
     "data": {
      "text/html": [
       "<table class=\"dataframe\">\n",
       "<caption>A tibble: 1 × 3</caption>\n",
       "<thead>\n",
       "\t<tr><th scope=col>.metric</th><th scope=col>.estimator</th><th scope=col>.estimate</th></tr>\n",
       "\t<tr><th scope=col>&lt;chr&gt;</th><th scope=col>&lt;chr&gt;</th><th scope=col>&lt;dbl&gt;</th></tr>\n",
       "</thead>\n",
       "<tbody>\n",
       "\t<tr><td>accuracy</td><td>binary</td><td>0.6</td></tr>\n",
       "</tbody>\n",
       "</table>\n"
      ],
      "text/latex": [
       "A tibble: 1 × 3\n",
       "\\begin{tabular}{lll}\n",
       " .metric & .estimator & .estimate\\\\\n",
       " <chr> & <chr> & <dbl>\\\\\n",
       "\\hline\n",
       "\t accuracy & binary & 0.6\\\\\n",
       "\\end{tabular}\n"
      ],
      "text/markdown": [
       "\n",
       "A tibble: 1 × 3\n",
       "\n",
       "| .metric &lt;chr&gt; | .estimator &lt;chr&gt; | .estimate &lt;dbl&gt; |\n",
       "|---|---|---|\n",
       "| accuracy | binary | 0.6 |\n",
       "\n"
      ],
      "text/plain": [
       "  .metric  .estimator .estimate\n",
       "1 accuracy binary     0.6      "
      ]
     },
     "metadata": {},
     "output_type": "display_data"
    }
   ],
   "source": [
    "players_1A_predictions <- predict(players_1A_fit, players_test) |>\n",
    "  bind_cols(players_test)\n",
    "\n",
    "players_1A_test_predictions<-players_1A_predictions |>\n",
    "  metrics(truth = subscribe, estimate = .pred_class) |>\n",
    "  filter(.metric == \"accuracy\")\n",
    "\n",
    "players_1B_predictions <- predict(players_1B_fit, players_test) |>\n",
    "  bind_cols(players_test)\n",
    "\n",
    "players_1B_test_predictions<-players_1B_predictions |>\n",
    "  metrics(truth = subscribe, estimate = .pred_class) |>\n",
    "  filter(.metric == \"accuracy\")\n",
    "\n",
    "players_2_predictions <- predict(players_2_fit, players_test) |>\n",
    "  bind_cols(players_test)\n",
    "\n",
    "players_2_test_predictions<-players_2_predictions |>\n",
    "  metrics(truth = subscribe, estimate = .pred_class) |>\n",
    "  filter(.metric == \"accuracy\")\n",
    "\n",
    "players_1A_test_predictions\n",
    "players_1B_test_predictions\n",
    "players_2_test_predictions"
   ]
  },
  {
   "cell_type": "code",
   "execution_count": 57,
   "id": "cdc66cb8-29f3-4304-85bf-e468248126e1",
   "metadata": {},
   "outputs": [
    {
     "data": {
      "text/html": [
       "<table class=\"dataframe\">\n",
       "<caption>A tibble: 1 × 3</caption>\n",
       "<thead>\n",
       "\t<tr><th scope=col>.metric</th><th scope=col>.estimator</th><th scope=col>.estimate</th></tr>\n",
       "\t<tr><th scope=col>&lt;chr&gt;</th><th scope=col>&lt;chr&gt;</th><th scope=col>&lt;dbl&gt;</th></tr>\n",
       "</thead>\n",
       "<tbody>\n",
       "\t<tr><td>recall</td><td>binary</td><td>0.7272727</td></tr>\n",
       "</tbody>\n",
       "</table>\n"
      ],
      "text/latex": [
       "A tibble: 1 × 3\n",
       "\\begin{tabular}{lll}\n",
       " .metric & .estimator & .estimate\\\\\n",
       " <chr> & <chr> & <dbl>\\\\\n",
       "\\hline\n",
       "\t recall & binary & 0.7272727\\\\\n",
       "\\end{tabular}\n"
      ],
      "text/markdown": [
       "\n",
       "A tibble: 1 × 3\n",
       "\n",
       "| .metric &lt;chr&gt; | .estimator &lt;chr&gt; | .estimate &lt;dbl&gt; |\n",
       "|---|---|---|\n",
       "| recall | binary | 0.7272727 |\n",
       "\n"
      ],
      "text/plain": [
       "  .metric .estimator .estimate\n",
       "1 recall  binary     0.7272727"
      ]
     },
     "metadata": {},
     "output_type": "display_data"
    },
    {
     "data": {
      "text/html": [
       "<table class=\"dataframe\">\n",
       "<caption>A tibble: 1 × 3</caption>\n",
       "<thead>\n",
       "\t<tr><th scope=col>.metric</th><th scope=col>.estimator</th><th scope=col>.estimate</th></tr>\n",
       "\t<tr><th scope=col>&lt;chr&gt;</th><th scope=col>&lt;chr&gt;</th><th scope=col>&lt;dbl&gt;</th></tr>\n",
       "</thead>\n",
       "<tbody>\n",
       "\t<tr><td>recall</td><td>binary</td><td>0.5454545</td></tr>\n",
       "</tbody>\n",
       "</table>\n"
      ],
      "text/latex": [
       "A tibble: 1 × 3\n",
       "\\begin{tabular}{lll}\n",
       " .metric & .estimator & .estimate\\\\\n",
       " <chr> & <chr> & <dbl>\\\\\n",
       "\\hline\n",
       "\t recall & binary & 0.5454545\\\\\n",
       "\\end{tabular}\n"
      ],
      "text/markdown": [
       "\n",
       "A tibble: 1 × 3\n",
       "\n",
       "| .metric &lt;chr&gt; | .estimator &lt;chr&gt; | .estimate &lt;dbl&gt; |\n",
       "|---|---|---|\n",
       "| recall | binary | 0.5454545 |\n",
       "\n"
      ],
      "text/plain": [
       "  .metric .estimator .estimate\n",
       "1 recall  binary     0.5454545"
      ]
     },
     "metadata": {},
     "output_type": "display_data"
    },
    {
     "data": {
      "text/html": [
       "<table class=\"dataframe\">\n",
       "<caption>A tibble: 1 × 3</caption>\n",
       "<thead>\n",
       "\t<tr><th scope=col>.metric</th><th scope=col>.estimator</th><th scope=col>.estimate</th></tr>\n",
       "\t<tr><th scope=col>&lt;chr&gt;</th><th scope=col>&lt;chr&gt;</th><th scope=col>&lt;dbl&gt;</th></tr>\n",
       "</thead>\n",
       "<tbody>\n",
       "\t<tr><td>recall</td><td>binary</td><td>0.4545455</td></tr>\n",
       "</tbody>\n",
       "</table>\n"
      ],
      "text/latex": [
       "A tibble: 1 × 3\n",
       "\\begin{tabular}{lll}\n",
       " .metric & .estimator & .estimate\\\\\n",
       " <chr> & <chr> & <dbl>\\\\\n",
       "\\hline\n",
       "\t recall & binary & 0.4545455\\\\\n",
       "\\end{tabular}\n"
      ],
      "text/markdown": [
       "\n",
       "A tibble: 1 × 3\n",
       "\n",
       "| .metric &lt;chr&gt; | .estimator &lt;chr&gt; | .estimate &lt;dbl&gt; |\n",
       "|---|---|---|\n",
       "| recall | binary | 0.4545455 |\n",
       "\n"
      ],
      "text/plain": [
       "  .metric .estimator .estimate\n",
       "1 recall  binary     0.4545455"
      ]
     },
     "metadata": {},
     "output_type": "display_data"
    }
   ],
   "source": [
    "player_1A_recall <- players_1A_predictions|>\n",
    "    recall(truth = subscribe, estimate = .pred_class, event_level=\"first\")\n",
    "player_1B_recall <- players_1B_predictions |>\n",
    "    recall(truth = subscribe, estimate = .pred_class, event_level=\"first\")\n",
    "player_2_recall  <- players_2_predictions|>\n",
    "    recall(truth = subscribe, estimate = .pred_class, event_level=\"first\")\n",
    "\n",
    "player_1A_recall\n",
    "player_1B_recall\n",
    "player_2_recall"
   ]
  },
  {
   "cell_type": "code",
   "execution_count": null,
   "id": "46872de3-9944-400a-b157-920ff2eb1497",
   "metadata": {},
   "outputs": [],
   "source": []
  }
 ],
 "metadata": {
  "kernelspec": {
   "display_name": "R",
   "language": "R",
   "name": "ir"
  },
  "language_info": {
   "codemirror_mode": "r",
   "file_extension": ".r",
   "mimetype": "text/x-r-source",
   "name": "R",
   "pygments_lexer": "r",
   "version": "4.3.3"
  }
 },
 "nbformat": 4,
 "nbformat_minor": 5
}
